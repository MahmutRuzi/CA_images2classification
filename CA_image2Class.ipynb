{
  "nbformat": 4,
  "nbformat_minor": 0,
  "metadata": {
    "colab": {
      "provenance": [],
      "authorship_tag": "ABX9TyNOlOxqPiRJweUo0NSk81nC",
      "include_colab_link": true
    },
    "kernelspec": {
      "name": "python3",
      "display_name": "Python 3"
    },
    "language_info": {
      "name": "python"
    }
  },
  "cells": [
    {
      "cell_type": "markdown",
      "metadata": {
        "id": "view-in-github",
        "colab_type": "text"
      },
      "source": [
        "<a href=\"https://colab.research.google.com/github/MahmutRuzi/CA_images2classification/blob/main/CA_image2Class.ipynb\" target=\"_parent\"><img src=\"https://colab.research.google.com/assets/colab-badge.svg\" alt=\"Open In Colab\"/></a>"
      ]
    },
    {
      "cell_type": "markdown",
      "source": [
        "This notebook is created to demonstrate a simple example of classification task using basic scikit-learn modules. The task is to learn a limited number of contact angle (CA) pictures of a small (a few mm in diameter) water droplet on a flat surface.\n",
        "\n",
        "The CA is commonly used to characterize the wetting properties of a solid surface and is generally measured by taking pictures of a water droplet on the surface. The CA takes the values between zero and 180 degress. When water wetts a solid surface, the solid is called hydrophilic and the CA is very low. When water does not wett well, then the surface is called hydrophobic and the CA is generally above 90 degrees. If water does not wett a surface at all, a water droplet on such surfaces take almost spherical shape and the CA will be larger than 150 degrees. Such extremelly water repellent surfaces a called superhydrophobic. If the topics sounds interesting and you want learn more, please read my blog post on the topic. https://mahmutruzi.github.io/posts/2021/02/2021-02-07-What-is-superhydrophobicity/\n",
        "\n"
      ],
      "metadata": {
        "id": "g-Bm7oiFhlhV"
      }
    },
    {
      "cell_type": "markdown",
      "source": [
        "The data we use is images of water CA and the corresponding labels: 2 for superhydrophobic, 1 for hydrophobic, and 0 for hydrophilic. The data is a numpy array saved in compressed format (npz) and named \"labeled_CA_data.npz\". The data comprises of 33 images for class 2, 38 images for class 1, and 28 images of class 0.\n",
        "\n",
        "The first is to import modules that will be used later. Besides the commonly used standard libraries like numpy for numerical computation and matplotlib for visualization, we also import some scikit-learn modules for preprocessing, classification, and visualization.\n",
        "\n",
        "For classification, we use support vector machines (svm) and decision tree, both of which will be imported from sklearn (short for scikit-learn). Additionally, we also explore gradient boosting using another python packacge called xgboost."
      ],
      "metadata": {
        "id": "j1rBuoTErnGi"
      }
    },
    {
      "cell_type": "code",
      "execution_count": 2,
      "metadata": {
        "id": "W6wu0cKdhIHy"
      },
      "outputs": [],
      "source": [
        "import numpy as np\n",
        "import matplotlib.pyplot as plt\n",
        "from scipy.stats import randint, loguniform\n",
        "from sklearn import svm\n",
        "from sklearn.tree import DecisionTreeClassifier\n",
        "import xgboost as xgb\n",
        "from sklearn.model_selection import train_test_split, RandomizedSearchCV, LearningCurveDisplay\n",
        "from sklearn.metrics import  accuracy_score, classification_report, ConfusionMatrixDisplay\n"
      ]
    },
    {
      "cell_type": "markdown",
      "source": [
        "It should be noted that the packages should be installed before being able to import that. However, it seems all these packages are automatically included in colab. Otherwise, when the run the above, it will give an error. Just to be sure, we can check the libraries and which version we are using."
      ],
      "metadata": {
        "id": "Eb18mQ9uhf5-"
      }
    },
    {
      "cell_type": "code",
      "source": [
        "print(np.__version__)\n",
        "print(xgb.__version__)"
      ],
      "metadata": {
        "colab": {
          "base_uri": "https://localhost:8080/"
        },
        "id": "AY3Wh48ShjN8",
        "outputId": "29496955-8e72-4ddd-fe7b-7a0fb57a409c"
      },
      "execution_count": 3,
      "outputs": [
        {
          "output_type": "stream",
          "name": "stdout",
          "text": [
            "1.23.5\n",
            "2.0.2\n"
          ]
        }
      ]
    },
    {
      "cell_type": "markdown",
      "source": [
        "Now we load the data using numpy and extract the images and labels."
      ],
      "metadata": {
        "id": "BTTqBmNjzmGP"
      }
    },
    {
      "cell_type": "code",
      "source": [
        "# load the data\n",
        "raw_data = np.load('labeled_CA_data.npz')\n",
        "# retrieve attributes\n",
        "ca_imgs = raw_data[\"images\"]\n",
        "lab_class = raw_data[\"labels\"]"
      ],
      "metadata": {
        "id": "bx1r5z92xSD4"
      },
      "execution_count": 5,
      "outputs": []
    },
    {
      "cell_type": "markdown",
      "source": [
        "Now lets look at the data,and plot some of the images. Here, we use a small function to plot first 10 images."
      ],
      "metadata": {
        "id": "cB8iy8YERvpI"
      }
    },
    {
      "cell_type": "code",
      "source": [
        "# explore the data\n",
        "n_samples = len(ca_imgs)\n",
        "img_size = ca_imgs.shape\n",
        "print(f\"The number of smaples is: {n_samples}\")\n",
        "print(f\"Each image size is: {img_size[1:]}\")\n",
        "\n",
        "# function to plot\n",
        "_, axes = plt.subplots(nrows=1, ncols=10, figsize=(10, 4))\n",
        "for ax, image, label in zip(axes, ca_imgs, lab_class):\n",
        "    ax.set_axis_off()\n",
        "    ax.imshow(image, cmap='gray', interpolation=\"None\")\n",
        "    ax.set_title(\"%i\" % label)"
      ],
      "metadata": {
        "colab": {
          "base_uri": "https://localhost:8080/",
          "height": 159
        },
        "id": "kKiYKxOoR1bj",
        "outputId": "57b58034-75f9-47cb-eb97-0fef8522e11f"
      },
      "execution_count": 13,
      "outputs": [
        {
          "output_type": "stream",
          "name": "stdout",
          "text": [
            "The number of smaples is: 99\n",
            "Each image size is: (32, 32)\n"
          ]
        },
        {
          "output_type": "display_data",
          "data": {
            "text/plain": [
              "<Figure size 1000x400 with 10 Axes>"
            ],
            "image/png": "[encoded data removed]"
          },
          "metadata": {}
        }
      ]
    },
    {
      "cell_type": "markdown",
      "source": [
        "The data is (99, 32,32) in size. We need to flatten the data so that each row corresponds to one image. Furthermore, the image is grayscale 256 bit,we need to scale it as well. Then, we split the data into training set and test sets. We use the train_test_split functionality of sklearn we imported earlier."
      ],
      "metadata": {
        "id": "EWckDt9WSv56"
      }
    },
    {
      "cell_type": "code",
      "source": [
        "# flatten images, and scale\n",
        "data = ca_imgs.reshape((n_samples, -1))/255\n",
        "\n",
        "# split the data into 80% train and 20% test subset\n",
        "X_train, X_test, y_train, y_test = train_test_split(data, lab_class,\n",
        "                                                    test_size=0.2, shuffle=True,\n",
        "                                                    random_state=42,\n",
        "                                                    stratify=lab_class)"
      ],
      "metadata": {
        "id": "gnYEnKcaVcFA"
      },
      "execution_count": 16,
      "outputs": []
    },
    {
      "cell_type": "markdown",
      "source": [
        "In the code above, we split the data into 20% test set while while the rest is reserved for training. shuffle=True ensures the data is randomly shuffled before splitting and stratify=lab_class ensures that both the training set and test set has about the same percentage of samples of each class.\n",
        "\n",
        "Now the data is ready for classification. In the first example, we use svm classifier to learn the training data and evaluate its accuracy using the test sets. For classifcation using svm, we need to provide certain paramters. Here, we choose to optimize these paramters as well. For that purpose, we use the RandomizedSearchCV function."
      ],
      "metadata": {
        "id": "voLHElQjWxIA"
      }
    },
    {
      "cell_type": "code",
      "source": [
        "# create SVM classifier, scan for best parameters\n",
        "\n",
        "param_dist = {\n",
        "    'kernel': ['linear','poly','rbf'],\n",
        "    \"C\": loguniform(0.1, 1e5),\n",
        "    \"gamma\": loguniform(1e-4, 1e-1),\n",
        "}\n",
        "\n",
        "estimator_svc = svm.SVC(class_weight='balanced')\n",
        "n_param_samples = 100\n",
        "clf1 = RandomizedSearchCV(estimator_svc, param_dist, n_iter=n_param_samples,\n",
        "                          scoring='accuracy', cv=5,\n",
        "                          random_state=42)"
      ],
      "metadata": {
        "id": "Uque9wruYME6"
      },
      "execution_count": 18,
      "outputs": []
    },
    {
      "cell_type": "markdown",
      "source": [
        "In the above lines, we scan for kernel functions, the regularization paramter C, and the kernel function coefficeint gamma. Then, we initiate the svm classifier with class_weight='balanced' to take the number of samples within each class into account. The next step is the RandomizedSearchCV parameters. Here, n_iter is the number parameter sets to scann, scoring is choose which scoring function to use,and cv means number of cross-validation.\n",
        "\n",
        "The next step is training (fitting) the model on the training data sets."
      ],
      "metadata": {
        "id": "uAJK9Y9QZYUD"
      }
    },
    {
      "cell_type": "code",
      "source": [
        "svc_estimator = clf1.fit(X_train, y_train)\n",
        "\n",
        "print(\"Best estimator found by grid search:\")\n",
        "print(f\"best parameters: {svc_estimator.best_params_}\")\n",
        "print(f\"Mean cross-validated score: {svc_estimator.best_score_:.2f}\")"
      ],
      "metadata": {
        "colab": {
          "base_uri": "https://localhost:8080/"
        },
        "id": "3ttXjSFPbsFg",
        "outputId": "21ef969b-84ac-4e62-83d0-e92a22a19a13"
      },
      "execution_count": 19,
      "outputs": [
        {
          "output_type": "stream",
          "name": "stdout",
          "text": [
            "Best estimator found by grid search:\n",
            "best parameters: {'C': 50.49691095545219, 'gamma': 0.00024404968163647524, 'kernel': 'rbf'}\n",
            "Mean cross-validated score: 0.70\n"
          ]
        }
      ]
    },
    {
      "cell_type": "markdown",
      "source": [
        "Then we can use the best parametes to retrain the model, make prediction, and then can compare the predicted results to the test set data."
      ],
      "metadata": {
        "id": "lwHwNCvbb87r"
      }
    },
    {
      "cell_type": "code",
      "source": [
        "# learn the images using the best parameters\n",
        "# initiate the svm classifier\n",
        "svc_best = svm.SVC(C=10, kernel=\"rbf\", gamma=0.0007, class_weight='balanced',\n",
        "              random_state=42)\n",
        "# fit the classfier using the training datatset\n",
        "svc_best.fit(X_train, y_train)\n",
        "# predict\n",
        "predicted = svc_best.predict(X_test)\n",
        "\n",
        "svc_accuracy = accuracy_score(y_test, predicted)\n",
        "print(\"Accuracy (train) for SVC: %0.1f%% \" % (svc_accuracy * 100))"
      ],
      "metadata": {
        "colab": {
          "base_uri": "https://localhost:8080/"
        },
        "id": "458qlIVDcSWC",
        "outputId": "a6381a2a-0bc5-4d0a-bac2-7b225e8bb22a"
      },
      "execution_count": 20,
      "outputs": [
        {
          "output_type": "stream",
          "name": "stdout",
          "text": [
            "Accuracy (train) for SVC: 85.0% \n"
          ]
        }
      ]
    },
    {
      "cell_type": "markdown",
      "source": [
        "We proceed further to print out a classification report and visualize the confusion matrix."
      ],
      "metadata": {
        "id": "LKqZBB_7crt-"
      }
    },
    {
      "cell_type": "code",
      "source": [
        "print(\n",
        "    f\"Classification report for classifier {svc_best}:\\n\"\n",
        "    f\"{classification_report(y_test, predicted)}\\n\")\n",
        "\n",
        "disp = ConfusionMatrixDisplay.from_predictions(y_test, predicted,normalize='true')\n",
        "disp.figure_.suptitle(\"Confusion Matrix\")\n",
        "print(f\"Confusion matrix:\\n{disp.confusion_matrix}\")\n",
        "\n",
        "plt.show()"
      ],
      "metadata": {
        "colab": {
          "base_uri": "https://localhost:8080/",
          "height": 769
        },
        "id": "wkboBojHc8ae",
        "outputId": "fc21e923-7901-4c9d-b775-204994349875"
      },
      "execution_count": 21,
      "outputs": [
        {
          "output_type": "stream",
          "name": "stdout",
          "text": [
            "Classification report for classifier SVC(C=10, class_weight='balanced', gamma=0.0007, random_state=42):\n",
            "              precision    recall  f1-score   support\n",
            "\n",
            "           0       0.83      1.00      0.91         5\n",
            "           1       1.00      0.62      0.77         8\n",
            "           2       0.78      1.00      0.88         7\n",
            "\n",
            "    accuracy                           0.85        20\n",
            "   macro avg       0.87      0.88      0.85        20\n",
            "weighted avg       0.88      0.85      0.84        20\n",
            "\n",
            "\n",
            "Confusion matrix:\n",
            "[[1.    0.    0.   ]\n",
            " [0.125 0.625 0.25 ]\n",
            " [0.    0.    1.   ]]\n"
          ]
        },
        {
          "output_type": "display_data",
          "data": {
            "text/plain": [
              "<Figure size 640x480 with 2 Axes>"
            ],
            "image/png": "[encoded data removed]"
          },
          "metadata": {}
        }
      ]
    }
  ]
}