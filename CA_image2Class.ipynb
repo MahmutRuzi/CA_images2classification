{
  "nbformat": 4,
  "nbformat_minor": 0,
  "metadata": {
    "colab": {
      "provenance": [],
      "authorship_tag": "ABX9TyNSqLTnCYoPHJ3xKCsko97g",
      "include_colab_link": true
    },
    "kernelspec": {
      "name": "python3",
      "display_name": "Python 3"
    },
    "language_info": {
      "name": "python"
    }
  },
  "cells": [
    {
      "cell_type": "markdown",
      "metadata": {
        "id": "view-in-github",
        "colab_type": "text"
      },
      "source": [
        "<a href=\"https://colab.research.google.com/github/MahmutRuzi/CA_images2classification/blob/main/CA_image2Class.ipynb\" target=\"_parent\"><img src=\"https://colab.research.google.com/assets/colab-badge.svg\" alt=\"Open In Colab\"/></a>"
      ]
    },
    {
      "cell_type": "markdown",
      "source": [
        "This notebook is created to demonstrate a simple example of classification task using basic scikit-learn modules. The task is to learn a limited number of contact angle (CA) pictures of a small (a few mm in diameter) water droplet on a flat surface.\n",
        "\n",
        "The CA is commonly used to characterize the wetting properties of a solid surface and is generally measured by taking pictures of a water droplet on the surface. The CA takes the values between zero and 180 degress. When water wetts a solid surface, the solid is called hydrophilic and the CA is very low. When water does not wett well, then the surface is called hydrophobic and the CA is generally above 90 degrees. If water does not wett a surface at all, a water droplet on such surfaces take almost spherical shape and the CA will be larger than 150 degrees. Such extremelly water repellent surfaces a called superhydrophobic. If the topics sounds interesting and you want learn more, please read my blog post on the topic. https://mahmutruzi.github.io/posts/2021/02/2021-02-07-What-is-superhydrophobicity/\n",
        "\n"
      ],
      "metadata": {
        "id": "g-Bm7oiFhlhV"
      }
    },
    {
      "cell_type": "markdown",
      "source": [
        "The data we use is images of water CA and the corresponding labels: 2 for superhydrophobic, 1 for hydrophobic, and 0 for hydrophilic. The data is a numpy array saved in compressed format (npz) and named \"labeled_CA_data.npz\".\n",
        "\n",
        "The first is to import modules that will be used later. Besides the commonly used standard libraries like numpy for numerical computation and matplotlib for visualization, we also import some scikit-learn modules for preprocessing, classification, and visualization.\n",
        "\n",
        "For classification, we use support vector machines (svm) and decision tree, both of which will be imported from sklearn (short for scikit-learn). Additionally, we also explore gradient boosting using another python packacge called xgboost."
      ],
      "metadata": {
        "id": "j1rBuoTErnGi"
      }
    },
    {
      "cell_type": "code",
      "execution_count": 1,
      "metadata": {
        "id": "W6wu0cKdhIHy"
      },
      "outputs": [],
      "source": [
        "import numpy as np\n",
        "import matplotlib.pyplot as plt\n",
        "from scipy.stats import randint, loguniform\n",
        "from sklearn import svm\n",
        "from sklearn.tree import DecisionTreeClassifier\n",
        "import xgboost as xgb\n",
        "from sklearn.model_selection import train_test_split, RandomizedSearchCV, LearningCurveDisplay\n",
        "from sklearn.metrics import  accuracy_score, classification_report, ConfusionMatrixDisplay\n"
      ]
    },
    {
      "cell_type": "markdown",
      "source": [
        "It should be noted that the packages should be installed before being able to import that. However, it seems all these packages are automatically included in colab. Otherwise, when the run the above, it will give an error. Just to be sure, we can check the libraries and which version we are using."
      ],
      "metadata": {
        "id": "Eb18mQ9uhf5-"
      }
    },
    {
      "cell_type": "code",
      "source": [
        "print(np.__version__)\n",
        "print(xgb.__version__)"
      ],
      "metadata": {
        "colab": {
          "base_uri": "https://localhost:8080/"
        },
        "id": "AY3Wh48ShjN8",
        "outputId": "e7358296-a651-4c52-e088-19c924baa696"
      },
      "execution_count": 8,
      "outputs": [
        {
          "output_type": "stream",
          "name": "stdout",
          "text": [
            "1.23.5\n",
            "2.0.2\n"
          ]
        }
      ]
    },
    {
      "cell_type": "markdown",
      "source": [
        "Now we load the data using numpy and extract the images and labels."
      ],
      "metadata": {
        "id": "BTTqBmNjzmGP"
      }
    },
    {
      "cell_type": "code",
      "source": [
        "# load the data\n",
        "raw_data = np.load('labeled_CA_data.npz')\n",
        "# retrieve attributes\n",
        "ca_imgs = raw_data[\"images\"]\n",
        "lab_class = raw_data[\"labels\"]"
      ],
      "metadata": {
        "id": "bx1r5z92xSD4"
      },
      "execution_count": 13,
      "outputs": []
    }
  ]
}