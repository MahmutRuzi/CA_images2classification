{
  "nbformat": 4,
  "nbformat_minor": 0,
  "metadata": {
    "colab": {
      "provenance": [],
      "authorship_tag": "ABX9TyOx1AfKbYd4Jqnp6vI5b6yJ",
      "include_colab_link": true
    },
    "kernelspec": {
      "name": "python3",
      "display_name": "Python 3"
    },
    "language_info": {
      "name": "python"
    }
  },
  "cells": [
    {
      "cell_type": "markdown",
      "metadata": {
        "id": "view-in-github",
        "colab_type": "text"
      },
      "source": [
        "<a href=\"https://colab.research.google.com/github/MahmutRuzi/CA_images2classification/blob/main/CA_image2Class.ipynb\" target=\"_parent\"><img src=\"https://colab.research.google.com/assets/colab-badge.svg\" alt=\"Open In Colab\"/></a>"
      ]
    },
    {
      "cell_type": "markdown",
      "source": [
        "This notebook is created to demonstrate a simple example of classification task using basic scikit-learn modules. The task is to learn a limited number of contact angle (CA) pictures of a small (a few mm in diameter) water droplet on a flat surface.\n",
        "\n",
        "The CA is commonly used to characterize the wetting properties of a solid surface and is generally measured by taking pictures of a water droplet on the surface. The CA takes the values between zero and 180 degress. When water wetts a solid surface, the solid is called hydrophilic and the CA is very low. When water does not wett well, then the surface is called hydrophobic and the CA is generally above 90 degrees. If water does not wett a surface at all, a water droplet on such surfaces take almost spherical shape and the CA will be larger than 150 degrees. Such extremelly water repellent surfaces a called superhydrophobic. If the topics sounds interesting and you want learn more, please read my blog post on the topic. https://mahmutruzi.github.io/posts/2021/02/2021-02-07-What-is-superhydrophobicity/\n",
        "\n"
      ],
      "metadata": {
        "id": "g-Bm7oiFhlhV"
      }
    },
    {
      "cell_type": "code",
      "execution_count": null,
      "metadata": {
        "id": "W6wu0cKdhIHy"
      },
      "outputs": [],
      "source": []
    },
    {
      "cell_type": "markdown",
      "source": [],
      "metadata": {
        "id": "Eb18mQ9uhf5-"
      }
    },
    {
      "cell_type": "code",
      "source": [],
      "metadata": {
        "id": "AY3Wh48ShjN8"
      },
      "execution_count": null,
      "outputs": []
    }
  ]
}